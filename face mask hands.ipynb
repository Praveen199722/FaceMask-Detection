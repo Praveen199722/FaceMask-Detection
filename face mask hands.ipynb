{
 "cells": [
  {
   "cell_type": "code",
   "execution_count": 1,
   "id": "3277e393",
   "metadata": {},
   "outputs": [],
   "source": [
    "from tensorflow.keras.applications.mobilenet_v2 import preprocess_input"
   ]
  },
  {
   "cell_type": "code",
   "execution_count": 2,
   "id": "c07da340",
   "metadata": {
    "scrolled": true
   },
   "outputs": [],
   "source": [
    "from tensorflow.keras.preprocessing.image import img_to_array\n",
    "from tensorflow.keras.models import load_model\n",
    "from imutils.video import VideoStream\n",
    "import numpy as np\n",
    "import imutils\n",
    "import time\n",
    "import cv2\n",
    "import os"
   ]
  },
  {
   "cell_type": "code",
   "execution_count": 3,
   "id": "90be597c",
   "metadata": {},
   "outputs": [
    {
     "name": "stdout",
     "output_type": "stream",
     "text": [
      "Requirement already satisfied: opencv-python in c:\\users\\prave\\anaconda3\\envs\\aiml\\lib\\site-packages (4.7.0.72)\n",
      "Requirement already satisfied: numpy>=1.17.0 in c:\\users\\prave\\anaconda3\\envs\\aiml\\lib\\site-packages (from opencv-python) (1.21.6)\n",
      "Note: you may need to restart the kernel to use updated packages.\n"
     ]
    }
   ],
   "source": [
    "pip install opencv-python"
   ]
  },
  {
   "cell_type": "code",
   "execution_count": 4,
   "id": "36cec356",
   "metadata": {},
   "outputs": [
    {
     "name": "stdout",
     "output_type": "stream",
     "text": [
      "Requirement already satisfied: imutils in c:\\users\\prave\\anaconda3\\envs\\aiml\\lib\\site-packages (0.5.4)\n"
     ]
    }
   ],
   "source": [
    "!pip install imutils"
   ]
  },
  {
   "cell_type": "code",
   "execution_count": 31,
   "id": "a79b644b",
   "metadata": {},
   "outputs": [],
   "source": [
    "import argparse"
   ]
  },
  {
   "cell_type": "code",
   "execution_count": 39,
   "id": "1d5c66e2",
   "metadata": {},
   "outputs": [
    {
     "name": "stdout",
     "output_type": "stream",
     "text": [
      "[INFO] loading face detector model...\n"
     ]
    },
    {
     "ename": "error",
     "evalue": "OpenCV(4.7.0) D:\\a\\opencv-python\\opencv-python\\opencv\\modules\\dnn\\src\\caffe\\caffe_io.cpp:1126: error: (-2:Unspecified error) FAILED: fs.is_open(). Can't open \"C:\\Users\\prave\\AppData\\Roaming\\jupyter\\runtime\\kernel-56d15e14-c566-491b-a7fb-f75d463ceb6c.json\\deploy,prototxt\" in function 'cv::dnn::ReadProtoFromTextFile'\n",
     "output_type": "error",
     "traceback": [
      "\u001b[1;31m---------------------------------------------------------------------------\u001b[0m",
      "\u001b[1;31merror\u001b[0m                                     Traceback (most recent call last)",
      "\u001b[1;32m~\\AppData\\Local\\Temp\\ipykernel_280\\1378026129.py\u001b[0m in \u001b[0;36m<module>\u001b[1;34m\u001b[0m\n\u001b[0;32m     38\u001b[0m weightspath = os.path.sep.join([args[\"face\"],\n\u001b[0;32m     39\u001b[0m     \"res10_300*300_ssdd_iter_140000.caffemodel\"])\n\u001b[1;32m---> 40\u001b[1;33m \u001b[0mfaceNet\u001b[0m \u001b[1;33m=\u001b[0m \u001b[0mcv2\u001b[0m\u001b[1;33m.\u001b[0m\u001b[0mdnn\u001b[0m\u001b[1;33m.\u001b[0m\u001b[0mreadNet\u001b[0m\u001b[1;33m(\u001b[0m\u001b[0mprototxtPath\u001b[0m\u001b[1;33m,\u001b[0m \u001b[0mweightspath\u001b[0m\u001b[1;33m)\u001b[0m\u001b[1;33m\u001b[0m\u001b[1;33m\u001b[0m\u001b[0m\n\u001b[0m",
      "\u001b[1;31merror\u001b[0m: OpenCV(4.7.0) D:\\a\\opencv-python\\opencv-python\\opencv\\modules\\dnn\\src\\caffe\\caffe_io.cpp:1126: error: (-2:Unspecified error) FAILED: fs.is_open(). Can't open \"C:\\Users\\prave\\AppData\\Roaming\\jupyter\\runtime\\kernel-56d15e14-c566-491b-a7fb-f75d463ceb6c.json\\deploy,prototxt\" in function 'cv::dnn::ReadProtoFromTextFile'\n"
     ]
    }
   ],
   "source": [
    "def detect_and_predict_mask(frame, faceNet, maskNet):\n",
    "    (h, w) = frame.shape[:2]\n",
    "    blob = cv2.dnn.blobFromImage(frame, 1.0,(300,300),(104.0, 177.0, 123.0))  \n",
    "    faceNet.setInput(blob)\n",
    "    detections = faceNet.forward()\n",
    "    faces = []\n",
    "    locs = []\n",
    "    preds = []\n",
    "    \n",
    "    for i in range(0, detections.shape[2]):\n",
    "        \n",
    "        confidence = detections[0,0,i,2]\n",
    "        \n",
    "    if len(faces) > 0:\n",
    "        \n",
    "        \n",
    "        \n",
    "        faces = np.array(faces,types=\"float32\")\n",
    "        preds = maskNet.predict(faces, batch_size=32)\n",
    "    \n",
    "    \n",
    "    return (locs, preds)\n",
    "\n",
    "ap = argparse.ArgumentParser()\n",
    "ap.add_argument(\"-f\",\"--face\", type=str,\n",
    "     default=\"face_detector\",\n",
    "     help=\"path to face detector model directory\")\n",
    "ap.add_argument(\"-m\",\"--model\", type=str,\n",
    "     default=\"mask_detector.model\",\n",
    "     help=\"path to trained face mask detector model\")\n",
    "ap.add_argument(\"-c\", \"--confidence\",type=float, default=0.5,\n",
    "     help=\"minimum probability to filter weak detections\")\n",
    "args = vars(ap.parse_args())\n",
    "\n",
    "    \n",
    "print(\"[INFO] loading face detector model...\")\n",
    "prototxtPath = os.path.sep.join([args[\"face\"], \"deploy,prototxt\"])\n",
    "weightspath = os.path.sep.join([args[\"face\"],\n",
    "    \"res10_300*300_ssdd_iter_140000.caffemodel\"])\n",
    "faceNet = cv2.dnn.readNet(prototxtPath, weightspath)"
   ]
  },
  {
   "cell_type": "code",
   "execution_count": 40,
   "id": "a126adfe",
   "metadata": {},
   "outputs": [
    {
     "name": "stdout",
     "output_type": "stream",
     "text": [
      "[INFO] loading face detector model...\n"
     ]
    }
   ],
   "source": [
    "print(\"[INFO] loading face detector model...\")\n",
    "prototxtPath = os.path.sep.join([args[\"face\"], \"deploy,prototxt\"])\n",
    "weightspath = os.path.sep.join([args[\"face\"],\n",
    "    \"res10_300*300_ssdd_iter_140000.caffemodel\"])"
   ]
  },
  {
   "cell_type": "code",
   "execution_count": 41,
   "id": "312f91d7",
   "metadata": {},
   "outputs": [
    {
     "name": "stdout",
     "output_type": "stream",
     "text": [
      "[INFO] loading face detector model...\n"
     ]
    },
    {
     "ename": "error",
     "evalue": "OpenCV(4.7.0) D:\\a\\opencv-python\\opencv-python\\opencv\\modules\\dnn\\src\\caffe\\caffe_io.cpp:1126: error: (-2:Unspecified error) FAILED: fs.is_open(). Can't open \"C:\\Users\\prave\\AppData\\Roaming\\jupyter\\runtime\\kernel-56d15e14-c566-491b-a7fb-f75d463ceb6c.json\\deploy,prototxt\" in function 'cv::dnn::ReadProtoFromTextFile'\n",
     "output_type": "error",
     "traceback": [
      "\u001b[1;31m---------------------------------------------------------------------------\u001b[0m",
      "\u001b[1;31merror\u001b[0m                                     Traceback (most recent call last)",
      "\u001b[1;32m~\\AppData\\Local\\Temp\\ipykernel_280\\390643509.py\u001b[0m in \u001b[0;36m<module>\u001b[1;34m\u001b[0m\n\u001b[0;32m      3\u001b[0m weightspath = os.path.sep.join([args[\"face\"],\n\u001b[0;32m      4\u001b[0m     \"res10_300*300_ssdd_iter_140000.caffemodel\"])\n\u001b[1;32m----> 5\u001b[1;33m \u001b[0mfaceNet\u001b[0m \u001b[1;33m=\u001b[0m \u001b[0mcv2\u001b[0m\u001b[1;33m.\u001b[0m\u001b[0mdnn\u001b[0m\u001b[1;33m.\u001b[0m\u001b[0mreadNet\u001b[0m\u001b[1;33m(\u001b[0m\u001b[0mprototxtPath\u001b[0m\u001b[1;33m,\u001b[0m \u001b[0mweightspath\u001b[0m\u001b[1;33m)\u001b[0m\u001b[1;33m\u001b[0m\u001b[1;33m\u001b[0m\u001b[0m\n\u001b[0m",
      "\u001b[1;31merror\u001b[0m: OpenCV(4.7.0) D:\\a\\opencv-python\\opencv-python\\opencv\\modules\\dnn\\src\\caffe\\caffe_io.cpp:1126: error: (-2:Unspecified error) FAILED: fs.is_open(). Can't open \"C:\\Users\\prave\\AppData\\Roaming\\jupyter\\runtime\\kernel-56d15e14-c566-491b-a7fb-f75d463ceb6c.json\\deploy,prototxt\" in function 'cv::dnn::ReadProtoFromTextFile'\n"
     ]
    }
   ],
   "source": [
    "print(\"[INFO] loading face detector model...\")\n",
    "prototxtPath = os.path.sep.join([args[\"face\"], \"deploy,prototxt\"])\n",
    "weightspath = os.path.sep.join([args[\"face\"],\n",
    "    \"res10_300*300_ssdd_iter_140000.caffemodel\"])\n",
    "faceNet = cv2.dnn.readNet(prototxtPath, weightspath)"
   ]
  },
  {
   "cell_type": "code",
   "execution_count": 44,
   "id": "78cabc47",
   "metadata": {},
   "outputs": [
    {
     "name": "stdout",
     "output_type": "stream",
     "text": [
      "[INFO] starting video stream...\n"
     ]
    }
   ],
   "source": [
    "prototxtPath = \"face_detector/deploy.prototxt\"\n",
    "weightsPath = \"face_detector/res10_300x300_ssd_iter_140000.caffemodel\"\n",
    "faceNet = cv2.dnn.readNet(prototxtPath, weightsPath)\n",
    "\n",
    "maskNet = load_model(\"mask_detector.model\")\n",
    "\n",
    "print(\"[INFO] starting video stream...\")\n",
    "vs = VideoStream(src=0).start()"
   ]
  },
  {
   "cell_type": "code",
   "execution_count": 63,
   "id": "4a3b5581",
   "metadata": {},
   "outputs": [
    {
     "ename": "SyntaxError",
     "evalue": "invalid character in identifier (4188134197.py, line 7)",
     "output_type": "error",
     "traceback": [
      "\u001b[1;36m  File \u001b[1;32m\"C:\\Users\\prave\\AppData\\Local\\Temp\\ipykernel_280\\4188134197.py\"\u001b[1;36m, line \u001b[1;32m7\u001b[0m\n\u001b[1;33m    while True:\u001b[0m\n\u001b[1;37m             ^\u001b[0m\n\u001b[1;31mSyntaxError\u001b[0m\u001b[1;31m:\u001b[0m invalid character in identifier\n"
     ]
    }
   ],
   "source": [
    "print(\"[INFO]) loading face mask detector model...\")\n",
    "maskNet = load_model(args[\"model\"])\n",
    "print(\"[INFO]) starting video stream..\")\n",
    "vs = VideoStream(src=0).start()\n",
    "time.sleep(2.0)\n",
    "\n",
    "while True:\n",
    "    # grab the frame from the threaded video stream and resize it \n",
    "    # to have a maximum width of 400 pixels \n",
    "    frame = vs.read() \n",
    "    frame = imutils.resize(frame, width=400) \n",
    "  \n",
    "         # detect faces in the frame and determine if they are wearing a \n",
    "         # face mask or not \n",
    "         (locs, preds) = detect_and_predict_mask(frame, faceNet, maskNet) \n",
    "  \n",
    "         # loop over the detected face locations and their corresponding \n",
    "         # locations \n",
    "         for (box, pred) in zip(locs, preds): \n",
    "                 # unpack the bounding box and predictions \n",
    "                 (startX, startY, endX, endY) = box \n",
    "                 (mask, withoutMask) = pred \n",
    "  \n",
    "                 # determine the class label and color we'll use to draw \n",
    "                 # the bounding box and text \n",
    "                 label = \"Mask\" if mask > withoutMask else \"No Mask\" \n",
    "                 color = (0, 255, 0) if label == \"Mask\" else (0, 0, 255)\n",
    "                \n",
    "  \n",
    "                 # include the probability in the label \n",
    "                 #label = \"{}: {:.2f}%\".format(label, max(mask, withoutMask) * 100) \n",
    "  \n",
    "                 # display the label and bounding box rectangle on the output \n",
    "                 # frame\n",
    "        if (label == \"Mask\"):\n",
    "            cv2.putText(frame, \"Mask: You are allowed\", (startX, startY - 10), \n",
    "            cv2.FONT_HERSHEY_SIMPLEX, 0.45, color, 2) \n",
    "            cv2.rectangle(frame, (startX, startY), (endX, endY), color, 2)\n",
    "        elif (label == \"No Mask\"):\n",
    "                lab = \"No Mask: You are not allowed\" \n",
    "                cv2.putText(frame, lab, (startX, startY - 10), \n",
    "                cv2.FONT_HERSHEY_SIMPLEX, 0.45, color, 2) \n",
    "                cv2.rectangle(frame, (startX, startY), (endX, endY), color, 2)\n",
    "\n"
   ]
  },
  {
   "cell_type": "code",
   "execution_count": null,
   "id": "e10b8182",
   "metadata": {},
   "outputs": [],
   "source": [
    "while True:\n",
    "    \n",
    "    frame = vs.read()\n",
    "    frame = imutils.resize(frame, width=400)\n",
    "    \n",
    "    (locs,preds) = detect_and_predict_mask(frame, faceNet, maskNet)\n",
    "    \n",
    "for (box,pred) in zip(locs, preds):\n",
    "        \n",
    "        (startX,startY, endX ,endY)= box\n",
    "        (Mask, withoutMask) = pred\n",
    "          \n",
    "        label = \"Mask\" if Mask > Mitoutmask else \"No Mask\"\n",
    "        color = (0,255, 0) \n",
    "        \n",
    "        if label == \"Mask\" else (0,0,255)if (label == \"Mask\"):\n",
    "            cv2.putText(frame, \"Mask: You are allowed\", (startX, startY - 10),\n",
    "            cv2.FONT_HERSHEY_SIMPLEX, 0.45, color, 2) \n",
    "            cv2.rectangle(frame, (startX, startY), (endX, endY), color, 2) \n",
    "        elif (label == \"No Mask\"):\n",
    "            lab = \"No Mask: You are not allowed\"\n",
    "            cv2.putText(frame, lab, (startX, startY - 10), \n",
    "            cv2.FONT_HERSHEY_SIMPLEX, 0.45, color, 2) \n",
    "            cv2.rectangle(frame, (startX, startY), (endX, endY), color, 2)\n",
    "            \n",
    "            cv2.imshow(\"Frame\",frame)\n",
    "            key = cv2.waitkey(1) & 0xFF\n",
    "            if key == ord(\"q\"):\n",
    "                break\n",
    "                \n",
    "cv2.destroyAllWindows()\n",
    "\n",
    "vs.release()"
   ]
  },
  {
   "cell_type": "code",
   "execution_count": 50,
   "id": "f84221c9",
   "metadata": {},
   "outputs": [
    {
     "ename": "SyntaxError",
     "evalue": "invalid character in identifier (2218041525.py, line 1)",
     "output_type": "error",
     "traceback": [
      "\u001b[1;36m  File \u001b[1;32m\"C:\\Users\\prave\\AppData\\Local\\Temp\\ipykernel_280\\2218041525.py\"\u001b[1;36m, line \u001b[1;32m1\u001b[0m\n\u001b[1;33m    while True:\u001b[0m\n\u001b[1;37m             ^\u001b[0m\n\u001b[1;31mSyntaxError\u001b[0m\u001b[1;31m:\u001b[0m invalid character in identifier\n"
     ]
    }
   ],
   "source": [
    "while True: \n",
    "         # grab the frame from the threaded video stream and resize it \n",
    "         # to have a maximum width of 400 pixels \n",
    "         frame = vs.read() \n",
    "         frame = imutils.resize(frame, width=400) \n",
    "  \n",
    "         # detect faces in the frame and determine if they are wearing a \n",
    "         # face mask or not \n",
    "         (locs, preds) = detect_and_predict_mask(frame, faceNet, maskNet) \n",
    "  \n",
    "         # loop over the detected face locations and their corresponding \n",
    "         # locations \n",
    "         for (box, pred) in zip(locs, preds): \n",
    "                 # unpack the bounding box and predictions \n",
    "                 (startX, startY, endX, endY) = box \n",
    "                 (mask, withoutMask) = pred \n",
    "  \n",
    "                 # determine the class label and color we'll use to draw \n",
    "                 # the bounding box and text \n",
    "                 label = \"Mask\" if mask > withoutMask else \"No Mask\" \n",
    "                 color = (0, 255, 0) if label == \"Mask\" else (0, 0, 255) \n",
    "  \n",
    "                 # include the probability in the label \n",
    "                 #label = \"{}: {:.2f}%\".format(label, max(mask, withoutMask) * 100) \n",
    "  \n",
    "                 # display the label and bounding box rectangle on the output \n",
    "                 # frame \n",
    "                 if (label == \"Mask\"): \n",
    "  \n",
    "                         cv2.putText(frame, \"Mask: You are allowed\", (startX, startY - 10), \n",
    "                                                 cv2.FONT_HERSHEY_SIMPLEX, 0.45, color, 2) \n",
    "                         cv2.rectangle(frame, (startX, startY), (endX, endY), color, 2) \n",
    "                 elif (label == \"No Mask\"): \n",
    "                         lab = \"No Mask: You are not allowed\" \n",
    "                         cv2.putText(frame, lab, (startX, startY - 10), \n",
    "                                                 cv2.FONT_HERSHEY_SIMPLEX, 0.45, color, 2) \n",
    "                         cv2.rectangle(frame, (startX, startY), (endX, endY), color, 2)"
   ]
  },
  {
   "cell_type": "code",
   "execution_count": 67,
   "id": "4869a6c7",
   "metadata": {},
   "outputs": [
    {
     "ename": "IndentationError",
     "evalue": "unindent does not match any outer indentation level (<tokenize>, line 47)",
     "output_type": "error",
     "traceback": [
      "\u001b[1;36m  File \u001b[1;32m\"<tokenize>\"\u001b[1;36m, line \u001b[1;32m47\u001b[0m\n\u001b[1;33m    cv2.rectangle(frame, (startX, startY), (endX, endY), color, 2)\u001b[0m\n\u001b[1;37m    ^\u001b[0m\n\u001b[1;31mIndentationError\u001b[0m\u001b[1;31m:\u001b[0m unindent does not match any outer indentation level\n"
     ]
    }
   ],
   "source": [
    "prototxtPath = \"face_detector/deploy.prototxt\"\n",
    "weightsPath = \"face_detector/res10_300x300_ssd_iter_140000.caffemodel\"\n",
    "faceNet = cv2.dnn.readNet(prototxtPath, weightsPath)\n",
    "\n",
    "maskNet = load_model(\"mask_detector.model\")\n",
    "\n",
    "print(\"[INFO] starting video stream...\")\n",
    "vs = VideoStream(src=0).start()\n",
    "\n",
    "print(\"[INFO]) loading face mask detector model...\")\n",
    "maskNet = load_model(args[\"model\"])\n",
    "print(\"[INFO]) starting video stream..\")\n",
    "vs = VideoStream(src=0).start()\n",
    "time.sleep(2.0)\n",
    "print(\"[INFO]) loading face mask detector model...\")\n",
    "maskNet = load_model(args[\"model\"])\n",
    "print(\"[INFO]) starting video stream..\")\n",
    "vs = VideoStream(src=0).start()\n",
    "time.sleep(2.0)\n",
    "\n",
    "while True:\n",
    "    \n",
    "    frame = vs.read()\n",
    "    frame = imutils.resize(frame, width=400)\n",
    "    \n",
    "    (locs,preds) = detect_and_predict_mask(frame, faceNet, maskNet)\n",
    "    \n",
    "for (box,pred) in zip(locs, preds):\n",
    "        \n",
    "        (startX,startY, endX ,endY)= box\n",
    "        (Mask, withoutMask) = pred\n",
    "          \n",
    "        label = \"Mask\" if Mask > witoutMask else \"No Mask\"\n",
    "        color = (0,255, 0) if label ==\"Mask\"  else (0,0,225)\n",
    "        #frame\n",
    "        \n",
    "        \n",
    "        if(label == \"Mask\"):\n",
    "            \n",
    "            cv2.putText(frame, \"Mask: You are allowed\", (startX, startY - 10),\n",
    "            cv2.FONT_HERSHEY_SIMPLEX, 0.45, color, 2) \n",
    "            cv2.rectangle(frame, (startX, startY), (endX, endY), color, 2)\n",
    "        elif(label==\"No Mask\"):\n",
    "            lab =\"No Mask: You are not allowed\"\n",
    "            cv2.putText(frame,lab,(startX,startY - 10),\n",
    "            cv2.FONT_HERSHEY_SIMPLEX, 0.45, color, 2) \n",
    "            cv2.rectangle(frame, (startX, startY), (endX, endY), color, 2)\n",
    "            \n",
    "    cv2.imshow(\"Frame\",frame)\n",
    "    key = cv2.waitkey(1) & 0xFF\n",
    "    \n",
    "    if key == ord(\"q\"):\n",
    "        break\n",
    "                \n",
    "cv2.destroyAllWindows()\n",
    "\n",
    "vs.release()\n"
   ]
  },
  {
   "cell_type": "code",
   "execution_count": null,
   "id": "ea6556a1",
   "metadata": {},
   "outputs": [],
   "source": []
  }
 ],
 "metadata": {
  "kernelspec": {
   "display_name": "Python 3 (ipykernel)",
   "language": "python",
   "name": "python3"
  },
  "language_info": {
   "codemirror_mode": {
    "name": "ipython",
    "version": 3
   },
   "file_extension": ".py",
   "mimetype": "text/x-python",
   "name": "python",
   "nbconvert_exporter": "python",
   "pygments_lexer": "ipython3",
   "version": "3.7.6"
  }
 },
 "nbformat": 4,
 "nbformat_minor": 5
}
